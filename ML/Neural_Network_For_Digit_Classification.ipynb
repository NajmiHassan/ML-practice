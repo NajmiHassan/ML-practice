{
 "cells": [
  {
   "cell_type": "code",
   "execution_count": 2,
   "id": "de875ef7",
   "metadata": {},
   "outputs": [
    {
     "name": "stdout",
     "output_type": "stream",
     "text": [
      "Requirement already satisfied: tensorflow in c:\\users\\najmi\\anaconda3\\lib\\site-packages (2.14.0)\n",
      "Requirement already satisfied: tensorflow-intel==2.14.0 in c:\\users\\najmi\\anaconda3\\lib\\site-packages (from tensorflow) (2.14.0)\n",
      "Requirement already satisfied: absl-py>=1.0.0 in c:\\users\\najmi\\anaconda3\\lib\\site-packages (from tensorflow-intel==2.14.0->tensorflow) (2.0.0)\n",
      "Requirement already satisfied: astunparse>=1.6.0 in c:\\users\\najmi\\anaconda3\\lib\\site-packages (from tensorflow-intel==2.14.0->tensorflow) (1.6.3)\n",
      "Requirement already satisfied: flatbuffers>=23.5.26 in c:\\users\\najmi\\anaconda3\\lib\\site-packages (from tensorflow-intel==2.14.0->tensorflow) (23.5.26)\n",
      "Requirement already satisfied: gast!=0.5.0,!=0.5.1,!=0.5.2,>=0.2.1 in c:\\users\\najmi\\anaconda3\\lib\\site-packages (from tensorflow-intel==2.14.0->tensorflow) (0.5.4)\n",
      "Requirement already satisfied: google-pasta>=0.1.1 in c:\\users\\najmi\\anaconda3\\lib\\site-packages (from tensorflow-intel==2.14.0->tensorflow) (0.2.0)\n",
      "Requirement already satisfied: h5py>=2.9.0 in c:\\users\\najmi\\anaconda3\\lib\\site-packages (from tensorflow-intel==2.14.0->tensorflow) (3.9.0)\n",
      "Requirement already satisfied: libclang>=13.0.0 in c:\\users\\najmi\\anaconda3\\lib\\site-packages (from tensorflow-intel==2.14.0->tensorflow) (16.0.6)\n",
      "Requirement already satisfied: ml-dtypes==0.2.0 in c:\\users\\najmi\\anaconda3\\lib\\site-packages (from tensorflow-intel==2.14.0->tensorflow) (0.2.0)\n",
      "Requirement already satisfied: numpy>=1.23.5 in c:\\users\\najmi\\anaconda3\\lib\\site-packages (from tensorflow-intel==2.14.0->tensorflow) (1.24.3)\n",
      "Requirement already satisfied: opt-einsum>=2.3.2 in c:\\users\\najmi\\anaconda3\\lib\\site-packages (from tensorflow-intel==2.14.0->tensorflow) (3.3.0)\n",
      "Requirement already satisfied: packaging in c:\\users\\najmi\\anaconda3\\lib\\site-packages (from tensorflow-intel==2.14.0->tensorflow) (23.1)\n",
      "Requirement already satisfied: protobuf!=4.21.0,!=4.21.1,!=4.21.2,!=4.21.3,!=4.21.4,!=4.21.5,<5.0.0dev,>=3.20.3 in c:\\users\\najmi\\anaconda3\\lib\\site-packages (from tensorflow-intel==2.14.0->tensorflow) (4.25.0)\n",
      "Requirement already satisfied: setuptools in c:\\users\\najmi\\anaconda3\\lib\\site-packages (from tensorflow-intel==2.14.0->tensorflow) (68.0.0)\n",
      "Requirement already satisfied: six>=1.12.0 in c:\\users\\najmi\\anaconda3\\lib\\site-packages (from tensorflow-intel==2.14.0->tensorflow) (1.16.0)\n",
      "Requirement already satisfied: termcolor>=1.1.0 in c:\\users\\najmi\\anaconda3\\lib\\site-packages (from tensorflow-intel==2.14.0->tensorflow) (2.3.0)\n",
      "Requirement already satisfied: typing-extensions>=3.6.6 in c:\\users\\najmi\\anaconda3\\lib\\site-packages (from tensorflow-intel==2.14.0->tensorflow) (4.7.1)\n",
      "Requirement already satisfied: wrapt<1.15,>=1.11.0 in c:\\users\\najmi\\anaconda3\\lib\\site-packages (from tensorflow-intel==2.14.0->tensorflow) (1.14.1)\n",
      "Requirement already satisfied: tensorflow-io-gcs-filesystem>=0.23.1 in c:\\users\\najmi\\anaconda3\\lib\\site-packages (from tensorflow-intel==2.14.0->tensorflow) (0.31.0)\n",
      "Requirement already satisfied: grpcio<2.0,>=1.24.3 in c:\\users\\najmi\\anaconda3\\lib\\site-packages (from tensorflow-intel==2.14.0->tensorflow) (1.59.2)\n",
      "Requirement already satisfied: tensorboard<2.15,>=2.14 in c:\\users\\najmi\\anaconda3\\lib\\site-packages (from tensorflow-intel==2.14.0->tensorflow) (2.14.1)\n",
      "Requirement already satisfied: tensorflow-estimator<2.15,>=2.14.0 in c:\\users\\najmi\\anaconda3\\lib\\site-packages (from tensorflow-intel==2.14.0->tensorflow) (2.14.0)\n",
      "Requirement already satisfied: keras<2.15,>=2.14.0 in c:\\users\\najmi\\anaconda3\\lib\\site-packages (from tensorflow-intel==2.14.0->tensorflow) (2.14.0)\n",
      "Requirement already satisfied: wheel<1.0,>=0.23.0 in c:\\users\\najmi\\anaconda3\\lib\\site-packages (from astunparse>=1.6.0->tensorflow-intel==2.14.0->tensorflow) (0.38.4)\n",
      "Requirement already satisfied: google-auth<3,>=1.6.3 in c:\\users\\najmi\\anaconda3\\lib\\site-packages (from tensorboard<2.15,>=2.14->tensorflow-intel==2.14.0->tensorflow) (2.23.4)\n",
      "Requirement already satisfied: google-auth-oauthlib<1.1,>=0.5 in c:\\users\\najmi\\anaconda3\\lib\\site-packages (from tensorboard<2.15,>=2.14->tensorflow-intel==2.14.0->tensorflow) (1.0.0)\n",
      "Requirement already satisfied: markdown>=2.6.8 in c:\\users\\najmi\\anaconda3\\lib\\site-packages (from tensorboard<2.15,>=2.14->tensorflow-intel==2.14.0->tensorflow) (3.4.1)\n",
      "Requirement already satisfied: requests<3,>=2.21.0 in c:\\users\\najmi\\anaconda3\\lib\\site-packages (from tensorboard<2.15,>=2.14->tensorflow-intel==2.14.0->tensorflow) (2.31.0)\n",
      "Requirement already satisfied: tensorboard-data-server<0.8.0,>=0.7.0 in c:\\users\\najmi\\anaconda3\\lib\\site-packages (from tensorboard<2.15,>=2.14->tensorflow-intel==2.14.0->tensorflow) (0.7.2)\n",
      "Requirement already satisfied: werkzeug>=1.0.1 in c:\\users\\najmi\\anaconda3\\lib\\site-packages (from tensorboard<2.15,>=2.14->tensorflow-intel==2.14.0->tensorflow) (2.2.3)\n",
      "Requirement already satisfied: cachetools<6.0,>=2.0.0 in c:\\users\\najmi\\anaconda3\\lib\\site-packages (from google-auth<3,>=1.6.3->tensorboard<2.15,>=2.14->tensorflow-intel==2.14.0->tensorflow) (5.3.2)\n",
      "Requirement already satisfied: pyasn1-modules>=0.2.1 in c:\\users\\najmi\\anaconda3\\lib\\site-packages (from google-auth<3,>=1.6.3->tensorboard<2.15,>=2.14->tensorflow-intel==2.14.0->tensorflow) (0.2.8)\n",
      "Requirement already satisfied: rsa<5,>=3.1.4 in c:\\users\\najmi\\anaconda3\\lib\\site-packages (from google-auth<3,>=1.6.3->tensorboard<2.15,>=2.14->tensorflow-intel==2.14.0->tensorflow) (4.9)\n",
      "Requirement already satisfied: requests-oauthlib>=0.7.0 in c:\\users\\najmi\\anaconda3\\lib\\site-packages (from google-auth-oauthlib<1.1,>=0.5->tensorboard<2.15,>=2.14->tensorflow-intel==2.14.0->tensorflow) (1.3.1)\n",
      "Requirement already satisfied: charset-normalizer<4,>=2 in c:\\users\\najmi\\anaconda3\\lib\\site-packages (from requests<3,>=2.21.0->tensorboard<2.15,>=2.14->tensorflow-intel==2.14.0->tensorflow) (2.0.4)\n",
      "Requirement already satisfied: idna<4,>=2.5 in c:\\users\\najmi\\anaconda3\\lib\\site-packages (from requests<3,>=2.21.0->tensorboard<2.15,>=2.14->tensorflow-intel==2.14.0->tensorflow) (3.4)\n",
      "Requirement already satisfied: urllib3<3,>=1.21.1 in c:\\users\\najmi\\anaconda3\\lib\\site-packages (from requests<3,>=2.21.0->tensorboard<2.15,>=2.14->tensorflow-intel==2.14.0->tensorflow) (1.26.16)\n",
      "Requirement already satisfied: certifi>=2017.4.17 in c:\\users\\najmi\\anaconda3\\lib\\site-packages (from requests<3,>=2.21.0->tensorboard<2.15,>=2.14->tensorflow-intel==2.14.0->tensorflow) (2023.7.22)\n",
      "Requirement already satisfied: MarkupSafe>=2.1.1 in c:\\users\\najmi\\anaconda3\\lib\\site-packages (from werkzeug>=1.0.1->tensorboard<2.15,>=2.14->tensorflow-intel==2.14.0->tensorflow) (2.1.1)\n",
      "Requirement already satisfied: pyasn1<0.5.0,>=0.4.6 in c:\\users\\najmi\\anaconda3\\lib\\site-packages (from pyasn1-modules>=0.2.1->google-auth<3,>=1.6.3->tensorboard<2.15,>=2.14->tensorflow-intel==2.14.0->tensorflow) (0.4.8)\n",
      "Requirement already satisfied: oauthlib>=3.0.0 in c:\\users\\najmi\\anaconda3\\lib\\site-packages (from requests-oauthlib>=0.7.0->google-auth-oauthlib<1.1,>=0.5->tensorboard<2.15,>=2.14->tensorflow-intel==2.14.0->tensorflow) (3.2.2)\n"
     ]
    }
   ],
   "source": [
    "!pip install tensorflow"
   ]
  },
  {
   "cell_type": "code",
   "execution_count": 1,
   "id": "22ad12b1",
   "metadata": {},
   "outputs": [],
   "source": [
    "import tensorflow as tf\n",
    "from tensorflow import keras\n",
    "import matplotlib.pyplot as plt\n",
    "%matplotlib inline\n",
    "import numpy as np"
   ]
  },
  {
   "cell_type": "code",
   "execution_count": 2,
   "id": "4f7ab63e",
   "metadata": {},
   "outputs": [],
   "source": [
    "#loading the dataset\n",
    "(X_train, y_train) , (X_test, y_test) = keras.datasets.mnist.load_data()"
   ]
  },
  {
   "cell_type": "code",
   "execution_count": 3,
   "id": "7be03285",
   "metadata": {},
   "outputs": [
    {
     "data": {
      "text/plain": [
       "60000"
      ]
     },
     "execution_count": 3,
     "metadata": {},
     "output_type": "execute_result"
    }
   ],
   "source": [
    "#checking lenght of training data\n",
    "len(X_train)"
   ]
  },
  {
   "cell_type": "code",
   "execution_count": 4,
   "id": "09999815",
   "metadata": {},
   "outputs": [
    {
     "data": {
      "text/plain": [
       "10000"
      ]
     },
     "execution_count": 4,
     "metadata": {},
     "output_type": "execute_result"
    }
   ],
   "source": [
    "#checking lenght of testing data\n",
    "len(X_test)"
   ]
  },
  {
   "cell_type": "code",
   "execution_count": 7,
   "id": "bd1aecd6",
   "metadata": {},
   "outputs": [
    {
     "data": {
      "text/plain": [
       "(28, 28)"
      ]
     },
     "execution_count": 7,
     "metadata": {},
     "output_type": "execute_result"
    }
   ],
   "source": [
    "#sample\n",
    "X_train[0].shape"
   ]
  },
  {
   "cell_type": "code",
   "execution_count": 5,
   "id": "6f511119",
   "metadata": {},
   "outputs": [
    {
     "data": {
      "text/plain": [
       "array([[  0,   0,   0,   0,   0,   0,   0,   0,   0,   0,   0,   0,   0,\n",
       "          0,   0,   0,   0,   0,   0,   0,   0,   0,   0,   0,   0,   0,\n",
       "          0,   0],\n",
       "       [  0,   0,   0,   0,   0,   0,   0,   0,   0,   0,   0,   0,   0,\n",
       "          0,   0,   0,   0,   0,   0,   0,   0,   0,   0,   0,   0,   0,\n",
       "          0,   0],\n",
       "       [  0,   0,   0,   0,   0,   0,   0,   0,   0,   0,   0,   0,   0,\n",
       "          0,   0,   0,   0,   0,   0,   0,   0,   0,   0,   0,   0,   0,\n",
       "          0,   0],\n",
       "       [  0,   0,   0,   0,   0,   0,   0,   0,   0,   0,   0,   0,   0,\n",
       "          0,   0,   0,   0,   0,   0,   0,   0,   0,   0,   0,   0,   0,\n",
       "          0,   0],\n",
       "       [  0,   0,   0,   0,   0,   0,   0,   0,   0,   0,   0,   0,   0,\n",
       "          0,   0,   0,   0,   0,   0,   0,   0,   0,   0,   0,   0,   0,\n",
       "          0,   0],\n",
       "       [  0,   0,   0,   0,   0,   0,   0,   0,   0,   0,   0,   0,   3,\n",
       "         18,  18,  18, 126, 136, 175,  26, 166, 255, 247, 127,   0,   0,\n",
       "          0,   0],\n",
       "       [  0,   0,   0,   0,   0,   0,   0,   0,  30,  36,  94, 154, 170,\n",
       "        253, 253, 253, 253, 253, 225, 172, 253, 242, 195,  64,   0,   0,\n",
       "          0,   0],\n",
       "       [  0,   0,   0,   0,   0,   0,   0,  49, 238, 253, 253, 253, 253,\n",
       "        253, 253, 253, 253, 251,  93,  82,  82,  56,  39,   0,   0,   0,\n",
       "          0,   0],\n",
       "       [  0,   0,   0,   0,   0,   0,   0,  18, 219, 253, 253, 253, 253,\n",
       "        253, 198, 182, 247, 241,   0,   0,   0,   0,   0,   0,   0,   0,\n",
       "          0,   0],\n",
       "       [  0,   0,   0,   0,   0,   0,   0,   0,  80, 156, 107, 253, 253,\n",
       "        205,  11,   0,  43, 154,   0,   0,   0,   0,   0,   0,   0,   0,\n",
       "          0,   0],\n",
       "       [  0,   0,   0,   0,   0,   0,   0,   0,   0,  14,   1, 154, 253,\n",
       "         90,   0,   0,   0,   0,   0,   0,   0,   0,   0,   0,   0,   0,\n",
       "          0,   0],\n",
       "       [  0,   0,   0,   0,   0,   0,   0,   0,   0,   0,   0, 139, 253,\n",
       "        190,   2,   0,   0,   0,   0,   0,   0,   0,   0,   0,   0,   0,\n",
       "          0,   0],\n",
       "       [  0,   0,   0,   0,   0,   0,   0,   0,   0,   0,   0,  11, 190,\n",
       "        253,  70,   0,   0,   0,   0,   0,   0,   0,   0,   0,   0,   0,\n",
       "          0,   0],\n",
       "       [  0,   0,   0,   0,   0,   0,   0,   0,   0,   0,   0,   0,  35,\n",
       "        241, 225, 160, 108,   1,   0,   0,   0,   0,   0,   0,   0,   0,\n",
       "          0,   0],\n",
       "       [  0,   0,   0,   0,   0,   0,   0,   0,   0,   0,   0,   0,   0,\n",
       "         81, 240, 253, 253, 119,  25,   0,   0,   0,   0,   0,   0,   0,\n",
       "          0,   0],\n",
       "       [  0,   0,   0,   0,   0,   0,   0,   0,   0,   0,   0,   0,   0,\n",
       "          0,  45, 186, 253, 253, 150,  27,   0,   0,   0,   0,   0,   0,\n",
       "          0,   0],\n",
       "       [  0,   0,   0,   0,   0,   0,   0,   0,   0,   0,   0,   0,   0,\n",
       "          0,   0,  16,  93, 252, 253, 187,   0,   0,   0,   0,   0,   0,\n",
       "          0,   0],\n",
       "       [  0,   0,   0,   0,   0,   0,   0,   0,   0,   0,   0,   0,   0,\n",
       "          0,   0,   0,   0, 249, 253, 249,  64,   0,   0,   0,   0,   0,\n",
       "          0,   0],\n",
       "       [  0,   0,   0,   0,   0,   0,   0,   0,   0,   0,   0,   0,   0,\n",
       "          0,  46, 130, 183, 253, 253, 207,   2,   0,   0,   0,   0,   0,\n",
       "          0,   0],\n",
       "       [  0,   0,   0,   0,   0,   0,   0,   0,   0,   0,   0,   0,  39,\n",
       "        148, 229, 253, 253, 253, 250, 182,   0,   0,   0,   0,   0,   0,\n",
       "          0,   0],\n",
       "       [  0,   0,   0,   0,   0,   0,   0,   0,   0,   0,  24, 114, 221,\n",
       "        253, 253, 253, 253, 201,  78,   0,   0,   0,   0,   0,   0,   0,\n",
       "          0,   0],\n",
       "       [  0,   0,   0,   0,   0,   0,   0,   0,  23,  66, 213, 253, 253,\n",
       "        253, 253, 198,  81,   2,   0,   0,   0,   0,   0,   0,   0,   0,\n",
       "          0,   0],\n",
       "       [  0,   0,   0,   0,   0,   0,  18, 171, 219, 253, 253, 253, 253,\n",
       "        195,  80,   9,   0,   0,   0,   0,   0,   0,   0,   0,   0,   0,\n",
       "          0,   0],\n",
       "       [  0,   0,   0,   0,  55, 172, 226, 253, 253, 253, 253, 244, 133,\n",
       "         11,   0,   0,   0,   0,   0,   0,   0,   0,   0,   0,   0,   0,\n",
       "          0,   0],\n",
       "       [  0,   0,   0,   0, 136, 253, 253, 253, 212, 135, 132,  16,   0,\n",
       "          0,   0,   0,   0,   0,   0,   0,   0,   0,   0,   0,   0,   0,\n",
       "          0,   0],\n",
       "       [  0,   0,   0,   0,   0,   0,   0,   0,   0,   0,   0,   0,   0,\n",
       "          0,   0,   0,   0,   0,   0,   0,   0,   0,   0,   0,   0,   0,\n",
       "          0,   0],\n",
       "       [  0,   0,   0,   0,   0,   0,   0,   0,   0,   0,   0,   0,   0,\n",
       "          0,   0,   0,   0,   0,   0,   0,   0,   0,   0,   0,   0,   0,\n",
       "          0,   0],\n",
       "       [  0,   0,   0,   0,   0,   0,   0,   0,   0,   0,   0,   0,   0,\n",
       "          0,   0,   0,   0,   0,   0,   0,   0,   0,   0,   0,   0,   0,\n",
       "          0,   0]], dtype=uint8)"
      ]
     },
     "execution_count": 5,
     "metadata": {},
     "output_type": "execute_result"
    }
   ],
   "source": [
    "#weights represented are simple 2D array\n",
    "X_train[0]"
   ]
  },
  {
   "cell_type": "code",
   "execution_count": 6,
   "id": "ffb8b9d6",
   "metadata": {},
   "outputs": [
    {
     "data": {
      "text/plain": [
       "<matplotlib.image.AxesImage at 0x294ce8d1250>"
      ]
     },
     "execution_count": 6,
     "metadata": {},
     "output_type": "execute_result"
    },
    {
     "data": {
      "image/png": "[encoded data removed]",
      "text/plain": [
       "<Figure size 480x480 with 1 Axes>"
      ]
     },
     "metadata": {},
     "output_type": "display_data"
    }
   ],
   "source": [
    "plt.matshow(X_train[2])"
   ]
  },
  {
   "cell_type": "code",
   "execution_count": 7,
   "id": "8bb0161e",
   "metadata": {},
   "outputs": [
    {
     "data": {
      "text/plain": [
       "4"
      ]
     },
     "execution_count": 7,
     "metadata": {},
     "output_type": "execute_result"
    }
   ],
   "source": [
    "y_train[2]"
   ]
  },
  {
   "cell_type": "code",
   "execution_count": 8,
   "id": "3b124ab8",
   "metadata": {},
   "outputs": [
    {
     "data": {
      "text/plain": [
       "array([5, 0, 4, 1, 9], dtype=uint8)"
      ]
     },
     "execution_count": 8,
     "metadata": {},
     "output_type": "execute_result"
    }
   ],
   "source": [
    "y_train[:5]"
   ]
  },
  {
   "cell_type": "code",
   "execution_count": 9,
   "id": "d9739cad",
   "metadata": {},
   "outputs": [
    {
     "data": {
      "text/plain": [
       "(60000, 28, 28)"
      ]
     },
     "execution_count": 9,
     "metadata": {},
     "output_type": "execute_result"
    }
   ],
   "source": [
    "X_train.shape"
   ]
  },
  {
   "cell_type": "code",
   "execution_count": 10,
   "id": "af5a4b3d",
   "metadata": {},
   "outputs": [],
   "source": [
    "X_train = X_train / 255\n",
    "X_test = X_test / 255"
   ]
  },
  {
   "cell_type": "code",
   "execution_count": 11,
   "id": "a88bf79d",
   "metadata": {},
   "outputs": [
    {
     "data": {
      "text/plain": [
       "array([[0.        , 0.        , 0.        , 0.        , 0.        ,\n",
       "        0.        , 0.        , 0.        , 0.        , 0.        ,\n",
       "        0.        , 0.        , 0.        , 0.        , 0.        ,\n",
       "        0.        , 0.        , 0.        , 0.        , 0.        ,\n",
       "        0.        , 0.        , 0.        , 0.        , 0.        ,\n",
       "        0.        , 0.        , 0.        ],\n",
       "       [0.        , 0.        , 0.        , 0.        , 0.        ,\n",
       "        0.        , 0.        , 0.        , 0.        , 0.        ,\n",
       "        0.        , 0.        , 0.        , 0.        , 0.        ,\n",
       "        0.        , 0.        , 0.        , 0.        , 0.        ,\n",
       "        0.        , 0.        , 0.        , 0.        , 0.        ,\n",
       "        0.        , 0.        , 0.        ],\n",
       "       [0.        , 0.        , 0.        , 0.        , 0.        ,\n",
       "        0.        , 0.        , 0.        , 0.        , 0.        ,\n",
       "        0.        , 0.        , 0.        , 0.        , 0.        ,\n",
       "        0.        , 0.        , 0.        , 0.        , 0.        ,\n",
       "        0.        , 0.        , 0.        , 0.        , 0.        ,\n",
       "        0.        , 0.        , 0.        ],\n",
       "       [0.        , 0.        , 0.        , 0.        , 0.        ,\n",
       "        0.        , 0.        , 0.        , 0.        , 0.        ,\n",
       "        0.        , 0.        , 0.        , 0.        , 0.        ,\n",
       "        0.        , 0.        , 0.        , 0.        , 0.        ,\n",
       "        0.        , 0.        , 0.        , 0.        , 0.        ,\n",
       "        0.        , 0.        , 0.        ],\n",
       "       [0.        , 0.        , 0.        , 0.        , 0.        ,\n",
       "        0.        , 0.        , 0.        , 0.        , 0.        ,\n",
       "        0.        , 0.        , 0.        , 0.        , 0.        ,\n",
       "        0.        , 0.        , 0.        , 0.        , 0.        ,\n",
       "        0.        , 0.        , 0.        , 0.        , 0.        ,\n",
       "        0.        , 0.        , 0.        ],\n",
       "       [0.        , 0.        , 0.        , 0.        , 0.        ,\n",
       "        0.        , 0.        , 0.        , 0.        , 0.        ,\n",
       "        0.        , 0.        , 0.01176471, 0.07058824, 0.07058824,\n",
       "        0.07058824, 0.49411765, 0.53333333, 0.68627451, 0.10196078,\n",
       "        0.65098039, 1.        , 0.96862745, 0.49803922, 0.        ,\n",
       "        0.        , 0.        , 0.        ],\n",
       "       [0.        , 0.        , 0.        , 0.        , 0.        ,\n",
       "        0.        , 0.        , 0.        , 0.11764706, 0.14117647,\n",
       "        0.36862745, 0.60392157, 0.66666667, 0.99215686, 0.99215686,\n",
       "        0.99215686, 0.99215686, 0.99215686, 0.88235294, 0.6745098 ,\n",
       "        0.99215686, 0.94901961, 0.76470588, 0.25098039, 0.        ,\n",
       "        0.        , 0.        , 0.        ],\n",
       "       [0.        , 0.        , 0.        , 0.        , 0.        ,\n",
       "        0.        , 0.        , 0.19215686, 0.93333333, 0.99215686,\n",
       "        0.99215686, 0.99215686, 0.99215686, 0.99215686, 0.99215686,\n",
       "        0.99215686, 0.99215686, 0.98431373, 0.36470588, 0.32156863,\n",
       "        0.32156863, 0.21960784, 0.15294118, 0.        , 0.        ,\n",
       "        0.        , 0.        , 0.        ],\n",
       "       [0.        , 0.        , 0.        , 0.        , 0.        ,\n",
       "        0.        , 0.        , 0.07058824, 0.85882353, 0.99215686,\n",
       "        0.99215686, 0.99215686, 0.99215686, 0.99215686, 0.77647059,\n",
       "        0.71372549, 0.96862745, 0.94509804, 0.        , 0.        ,\n",
       "        0.        , 0.        , 0.        , 0.        , 0.        ,\n",
       "        0.        , 0.        , 0.        ],\n",
       "       [0.        , 0.        , 0.        , 0.        , 0.        ,\n",
       "        0.        , 0.        , 0.        , 0.31372549, 0.61176471,\n",
       "        0.41960784, 0.99215686, 0.99215686, 0.80392157, 0.04313725,\n",
       "        0.        , 0.16862745, 0.60392157, 0.        , 0.        ,\n",
       "        0.        , 0.        , 0.        , 0.        , 0.        ,\n",
       "        0.        , 0.        , 0.        ],\n",
       "       [0.        , 0.        , 0.        , 0.        , 0.        ,\n",
       "        0.        , 0.        , 0.        , 0.        , 0.05490196,\n",
       "        0.00392157, 0.60392157, 0.99215686, 0.35294118, 0.        ,\n",
       "        0.        , 0.        , 0.        , 0.        , 0.        ,\n",
       "        0.        , 0.        , 0.        , 0.        , 0.        ,\n",
       "        0.        , 0.        , 0.        ],\n",
       "       [0.        , 0.        , 0.        , 0.        , 0.        ,\n",
       "        0.        , 0.        , 0.        , 0.        , 0.        ,\n",
       "        0.        , 0.54509804, 0.99215686, 0.74509804, 0.00784314,\n",
       "        0.        , 0.        , 0.        , 0.        , 0.        ,\n",
       "        0.        , 0.        , 0.        , 0.        , 0.        ,\n",
       "        0.        , 0.        , 0.        ],\n",
       "       [0.        , 0.        , 0.        , 0.        , 0.        ,\n",
       "        0.        , 0.        , 0.        , 0.        , 0.        ,\n",
       "        0.        , 0.04313725, 0.74509804, 0.99215686, 0.2745098 ,\n",
       "        0.        , 0.        , 0.        , 0.        , 0.        ,\n",
       "        0.        , 0.        , 0.        , 0.        , 0.        ,\n",
       "        0.        , 0.        , 0.        ],\n",
       "       [0.        , 0.        , 0.        , 0.        , 0.        ,\n",
       "        0.        , 0.        , 0.        , 0.        , 0.        ,\n",
       "        0.        , 0.        , 0.1372549 , 0.94509804, 0.88235294,\n",
       "        0.62745098, 0.42352941, 0.00392157, 0.        , 0.        ,\n",
       "        0.        , 0.        , 0.        , 0.        , 0.        ,\n",
       "        0.        , 0.        , 0.        ],\n",
       "       [0.        , 0.        , 0.        , 0.        , 0.        ,\n",
       "        0.        , 0.        , 0.        , 0.        , 0.        ,\n",
       "        0.        , 0.        , 0.        , 0.31764706, 0.94117647,\n",
       "        0.99215686, 0.99215686, 0.46666667, 0.09803922, 0.        ,\n",
       "        0.        , 0.        , 0.        , 0.        , 0.        ,\n",
       "        0.        , 0.        , 0.        ],\n",
       "       [0.        , 0.        , 0.        , 0.        , 0.        ,\n",
       "        0.        , 0.        , 0.        , 0.        , 0.        ,\n",
       "        0.        , 0.        , 0.        , 0.        , 0.17647059,\n",
       "        0.72941176, 0.99215686, 0.99215686, 0.58823529, 0.10588235,\n",
       "        0.        , 0.        , 0.        , 0.        , 0.        ,\n",
       "        0.        , 0.        , 0.        ],\n",
       "       [0.        , 0.        , 0.        , 0.        , 0.        ,\n",
       "        0.        , 0.        , 0.        , 0.        , 0.        ,\n",
       "        0.        , 0.        , 0.        , 0.        , 0.        ,\n",
       "        0.0627451 , 0.36470588, 0.98823529, 0.99215686, 0.73333333,\n",
       "        0.        , 0.        , 0.        , 0.        , 0.        ,\n",
       "        0.        , 0.        , 0.        ],\n",
       "       [0.        , 0.        , 0.        , 0.        , 0.        ,\n",
       "        0.        , 0.        , 0.        , 0.        , 0.        ,\n",
       "        0.        , 0.        , 0.        , 0.        , 0.        ,\n",
       "        0.        , 0.        , 0.97647059, 0.99215686, 0.97647059,\n",
       "        0.25098039, 0.        , 0.        , 0.        , 0.        ,\n",
       "        0.        , 0.        , 0.        ],\n",
       "       [0.        , 0.        , 0.        , 0.        , 0.        ,\n",
       "        0.        , 0.        , 0.        , 0.        , 0.        ,\n",
       "        0.        , 0.        , 0.        , 0.        , 0.18039216,\n",
       "        0.50980392, 0.71764706, 0.99215686, 0.99215686, 0.81176471,\n",
       "        0.00784314, 0.        , 0.        , 0.        , 0.        ,\n",
       "        0.        , 0.        , 0.        ],\n",
       "       [0.        , 0.        , 0.        , 0.        , 0.        ,\n",
       "        0.        , 0.        , 0.        , 0.        , 0.        ,\n",
       "        0.        , 0.        , 0.15294118, 0.58039216, 0.89803922,\n",
       "        0.99215686, 0.99215686, 0.99215686, 0.98039216, 0.71372549,\n",
       "        0.        , 0.        , 0.        , 0.        , 0.        ,\n",
       "        0.        , 0.        , 0.        ],\n",
       "       [0.        , 0.        , 0.        , 0.        , 0.        ,\n",
       "        0.        , 0.        , 0.        , 0.        , 0.        ,\n",
       "        0.09411765, 0.44705882, 0.86666667, 0.99215686, 0.99215686,\n",
       "        0.99215686, 0.99215686, 0.78823529, 0.30588235, 0.        ,\n",
       "        0.        , 0.        , 0.        , 0.        , 0.        ,\n",
       "        0.        , 0.        , 0.        ],\n",
       "       [0.        , 0.        , 0.        , 0.        , 0.        ,\n",
       "        0.        , 0.        , 0.        , 0.09019608, 0.25882353,\n",
       "        0.83529412, 0.99215686, 0.99215686, 0.99215686, 0.99215686,\n",
       "        0.77647059, 0.31764706, 0.00784314, 0.        , 0.        ,\n",
       "        0.        , 0.        , 0.        , 0.        , 0.        ,\n",
       "        0.        , 0.        , 0.        ],\n",
       "       [0.        , 0.        , 0.        , 0.        , 0.        ,\n",
       "        0.        , 0.07058824, 0.67058824, 0.85882353, 0.99215686,\n",
       "        0.99215686, 0.99215686, 0.99215686, 0.76470588, 0.31372549,\n",
       "        0.03529412, 0.        , 0.        , 0.        , 0.        ,\n",
       "        0.        , 0.        , 0.        , 0.        , 0.        ,\n",
       "        0.        , 0.        , 0.        ],\n",
       "       [0.        , 0.        , 0.        , 0.        , 0.21568627,\n",
       "        0.6745098 , 0.88627451, 0.99215686, 0.99215686, 0.99215686,\n",
       "        0.99215686, 0.95686275, 0.52156863, 0.04313725, 0.        ,\n",
       "        0.        , 0.        , 0.        , 0.        , 0.        ,\n",
       "        0.        , 0.        , 0.        , 0.        , 0.        ,\n",
       "        0.        , 0.        , 0.        ],\n",
       "       [0.        , 0.        , 0.        , 0.        , 0.53333333,\n",
       "        0.99215686, 0.99215686, 0.99215686, 0.83137255, 0.52941176,\n",
       "        0.51764706, 0.0627451 , 0.        , 0.        , 0.        ,\n",
       "        0.        , 0.        , 0.        , 0.        , 0.        ,\n",
       "        0.        , 0.        , 0.        , 0.        , 0.        ,\n",
       "        0.        , 0.        , 0.        ],\n",
       "       [0.        , 0.        , 0.        , 0.        , 0.        ,\n",
       "        0.        , 0.        , 0.        , 0.        , 0.        ,\n",
       "        0.        , 0.        , 0.        , 0.        , 0.        ,\n",
       "        0.        , 0.        , 0.        , 0.        , 0.        ,\n",
       "        0.        , 0.        , 0.        , 0.        , 0.        ,\n",
       "        0.        , 0.        , 0.        ],\n",
       "       [0.        , 0.        , 0.        , 0.        , 0.        ,\n",
       "        0.        , 0.        , 0.        , 0.        , 0.        ,\n",
       "        0.        , 0.        , 0.        , 0.        , 0.        ,\n",
       "        0.        , 0.        , 0.        , 0.        , 0.        ,\n",
       "        0.        , 0.        , 0.        , 0.        , 0.        ,\n",
       "        0.        , 0.        , 0.        ],\n",
       "       [0.        , 0.        , 0.        , 0.        , 0.        ,\n",
       "        0.        , 0.        , 0.        , 0.        , 0.        ,\n",
       "        0.        , 0.        , 0.        , 0.        , 0.        ,\n",
       "        0.        , 0.        , 0.        , 0.        , 0.        ,\n",
       "        0.        , 0.        , 0.        , 0.        , 0.        ,\n",
       "        0.        , 0.        , 0.        ]])"
      ]
     },
     "execution_count": 11,
     "metadata": {},
     "output_type": "execute_result"
    }
   ],
   "source": [
    "X_train[0]"
   ]
  },
  {
   "cell_type": "code",
   "execution_count": 12,
   "id": "10029e6c",
   "metadata": {},
   "outputs": [
    {
     "data": {
      "text/plain": [
       "(60000, 784)"
      ]
     },
     "execution_count": 12,
     "metadata": {},
     "output_type": "execute_result"
    }
   ],
   "source": [
    "#Flattening the data in the MNIST dataset is necessary to convert the \n",
    "#original 28x28 matrix representing each image into a one-dimensional array.\n",
    "#This is primarily done because many neural network architectures, such as \n",
    "#feedforward networks, expect one-dimensional input. By flattening the data, \n",
    "#it becomes compatible with fully connected layers in the neural network, \n",
    "#which typically require one-dimensional input \n",
    "\n",
    "X_train_flattened = X_train.reshape(len(X_train), 28*28)\n",
    "X_test_flattened = X_test.reshape(len(X_test), 28*28)\n",
    "X_train_flattened.shape\n"
   ]
  },
  {
   "cell_type": "code",
   "execution_count": 13,
   "id": "9c41ea00",
   "metadata": {},
   "outputs": [
    {
     "data": {
      "text/plain": [
       "(10000, 784)"
      ]
     },
     "execution_count": 13,
     "metadata": {},
     "output_type": "execute_result"
    }
   ],
   "source": [
    "X_test_flattened.shape"
   ]
  },
  {
   "cell_type": "code",
   "execution_count": 14,
   "id": "cbb12022",
   "metadata": {},
   "outputs": [
    {
     "data": {
      "text/plain": [
       "array([0.        , 0.        , 0.        , 0.        , 0.        ,\n",
       "       0.        , 0.        , 0.        , 0.        , 0.        ,\n",
       "       0.        , 0.        , 0.        , 0.        , 0.        ,\n",
       "       0.        , 0.        , 0.        , 0.        , 0.        ,\n",
       "       0.        , 0.        , 0.        , 0.        , 0.        ,\n",
       "       0.        , 0.        , 0.        , 0.        , 0.        ,\n",
       "       0.        , 0.        , 0.        , 0.        , 0.        ,\n",
       "       0.        , 0.        , 0.        , 0.        , 0.        ,\n",
       "       0.        , 0.        , 0.        , 0.        , 0.        ,\n",
       "       0.        , 0.        , 0.        , 0.        , 0.        ,\n",
       "       0.        , 0.        , 0.        , 0.        , 0.        ,\n",
       "       0.        , 0.        , 0.        , 0.        , 0.        ,\n",
       "       0.        , 0.        , 0.        , 0.        , 0.        ,\n",
       "       0.        , 0.        , 0.        , 0.        , 0.        ,\n",
       "       0.        , 0.        , 0.        , 0.        , 0.        ,\n",
       "       0.        , 0.        , 0.        , 0.        , 0.        ,\n",
       "       0.        , 0.        , 0.        , 0.        , 0.        ,\n",
       "       0.        , 0.        , 0.        , 0.        , 0.        ,\n",
       "       0.        , 0.        , 0.        , 0.        , 0.        ,\n",
       "       0.        , 0.        , 0.        , 0.        , 0.        ,\n",
       "       0.        , 0.        , 0.        , 0.        , 0.        ,\n",
       "       0.        , 0.        , 0.        , 0.        , 0.        ,\n",
       "       0.        , 0.        , 0.        , 0.        , 0.        ,\n",
       "       0.        , 0.        , 0.        , 0.        , 0.        ,\n",
       "       0.        , 0.        , 0.        , 0.        , 0.        ,\n",
       "       0.        , 0.        , 0.        , 0.        , 0.        ,\n",
       "       0.        , 0.        , 0.        , 0.        , 0.        ,\n",
       "       0.        , 0.        , 0.        , 0.        , 0.        ,\n",
       "       0.        , 0.        , 0.        , 0.        , 0.        ,\n",
       "       0.        , 0.        , 0.        , 0.        , 0.        ,\n",
       "       0.        , 0.        , 0.        , 0.        , 0.        ,\n",
       "       0.        , 0.        , 0.        , 0.        , 0.        ,\n",
       "       0.        , 0.        , 0.        , 0.        , 0.        ,\n",
       "       0.        , 0.        , 0.        , 0.        , 0.        ,\n",
       "       0.        , 0.        , 0.        , 0.        , 0.        ,\n",
       "       0.        , 0.        , 0.        , 0.        , 0.        ,\n",
       "       0.        , 0.        , 0.        , 0.        , 0.        ,\n",
       "       0.        , 0.        , 0.        , 0.        , 0.        ,\n",
       "       0.        , 0.        , 0.        , 0.        , 0.        ,\n",
       "       0.        , 0.        , 0.        , 0.        , 0.        ,\n",
       "       0.        , 0.        , 0.32941176, 0.7254902 , 0.62352941,\n",
       "       0.59215686, 0.23529412, 0.14117647, 0.        , 0.        ,\n",
       "       0.        , 0.        , 0.        , 0.        , 0.        ,\n",
       "       0.        , 0.        , 0.        , 0.        , 0.        ,\n",
       "       0.        , 0.        , 0.        , 0.        , 0.        ,\n",
       "       0.        , 0.        , 0.        , 0.        , 0.        ,\n",
       "       0.87058824, 0.99607843, 0.99607843, 0.99607843, 0.99607843,\n",
       "       0.94509804, 0.77647059, 0.77647059, 0.77647059, 0.77647059,\n",
       "       0.77647059, 0.77647059, 0.77647059, 0.77647059, 0.66666667,\n",
       "       0.20392157, 0.        , 0.        , 0.        , 0.        ,\n",
       "       0.        , 0.        , 0.        , 0.        , 0.        ,\n",
       "       0.        , 0.        , 0.        , 0.2627451 , 0.44705882,\n",
       "       0.28235294, 0.44705882, 0.63921569, 0.89019608, 0.99607843,\n",
       "       0.88235294, 0.99607843, 0.99607843, 0.99607843, 0.98039216,\n",
       "       0.89803922, 0.99607843, 0.99607843, 0.54901961, 0.        ,\n",
       "       0.        , 0.        , 0.        , 0.        , 0.        ,\n",
       "       0.        , 0.        , 0.        , 0.        , 0.        ,\n",
       "       0.        , 0.        , 0.        , 0.        , 0.        ,\n",
       "       0.        , 0.06666667, 0.25882353, 0.05490196, 0.2627451 ,\n",
       "       0.2627451 , 0.2627451 , 0.23137255, 0.08235294, 0.9254902 ,\n",
       "       0.99607843, 0.41568627, 0.        , 0.        , 0.        ,\n",
       "       0.        , 0.        , 0.        , 0.        , 0.        ,\n",
       "       0.        , 0.        , 0.        , 0.        , 0.        ,\n",
       "       0.        , 0.        , 0.        , 0.        , 0.        ,\n",
       "       0.        , 0.        , 0.        , 0.        , 0.        ,\n",
       "       0.        , 0.3254902 , 0.99215686, 0.81960784, 0.07058824,\n",
       "       0.        , 0.        , 0.        , 0.        , 0.        ,\n",
       "       0.        , 0.        , 0.        , 0.        , 0.        ,\n",
       "       0.        , 0.        , 0.        , 0.        , 0.        ,\n",
       "       0.        , 0.        , 0.        , 0.        , 0.        ,\n",
       "       0.        , 0.        , 0.        , 0.08627451, 0.91372549,\n",
       "       1.        , 0.3254902 , 0.        , 0.        , 0.        ,\n",
       "       0.        , 0.        , 0.        , 0.        , 0.        ,\n",
       "       0.        , 0.        , 0.        , 0.        , 0.        ,\n",
       "       0.        , 0.        , 0.        , 0.        , 0.        ,\n",
       "       0.        , 0.        , 0.        , 0.        , 0.        ,\n",
       "       0.        , 0.50588235, 0.99607843, 0.93333333, 0.17254902,\n",
       "       0.        , 0.        , 0.        , 0.        , 0.        ,\n",
       "       0.        , 0.        , 0.        , 0.        , 0.        ,\n",
       "       0.        , 0.        , 0.        , 0.        , 0.        ,\n",
       "       0.        , 0.        , 0.        , 0.        , 0.        ,\n",
       "       0.        , 0.        , 0.        , 0.23137255, 0.97647059,\n",
       "       0.99607843, 0.24313725, 0.        , 0.        , 0.        ,\n",
       "       0.        , 0.        , 0.        , 0.        , 0.        ,\n",
       "       0.        , 0.        , 0.        , 0.        , 0.        ,\n",
       "       0.        , 0.        , 0.        , 0.        , 0.        ,\n",
       "       0.        , 0.        , 0.        , 0.        , 0.        ,\n",
       "       0.        , 0.52156863, 0.99607843, 0.73333333, 0.01960784,\n",
       "       0.        , 0.        , 0.        , 0.        , 0.        ,\n",
       "       0.        , 0.        , 0.        , 0.        , 0.        ,\n",
       "       0.        , 0.        , 0.        , 0.        , 0.        ,\n",
       "       0.        , 0.        , 0.        , 0.        , 0.        ,\n",
       "       0.        , 0.        , 0.        , 0.03529412, 0.80392157,\n",
       "       0.97254902, 0.22745098, 0.        , 0.        , 0.        ,\n",
       "       0.        , 0.        , 0.        , 0.        , 0.        ,\n",
       "       0.        , 0.        , 0.        , 0.        , 0.        ,\n",
       "       0.        , 0.        , 0.        , 0.        , 0.        ,\n",
       "       0.        , 0.        , 0.        , 0.        , 0.        ,\n",
       "       0.        , 0.49411765, 0.99607843, 0.71372549, 0.        ,\n",
       "       0.        , 0.        , 0.        , 0.        , 0.        ,\n",
       "       0.        , 0.        , 0.        , 0.        , 0.        ,\n",
       "       0.        , 0.        , 0.        , 0.        , 0.        ,\n",
       "       0.        , 0.        , 0.        , 0.        , 0.        ,\n",
       "       0.        , 0.        , 0.        , 0.29411765, 0.98431373,\n",
       "       0.94117647, 0.22352941, 0.        , 0.        , 0.        ,\n",
       "       0.        , 0.        , 0.        , 0.        , 0.        ,\n",
       "       0.        , 0.        , 0.        , 0.        , 0.        ,\n",
       "       0.        , 0.        , 0.        , 0.        , 0.        ,\n",
       "       0.        , 0.        , 0.        , 0.        , 0.        ,\n",
       "       0.0745098 , 0.86666667, 0.99607843, 0.65098039, 0.        ,\n",
       "       0.        , 0.        , 0.        , 0.        , 0.        ,\n",
       "       0.        , 0.        , 0.        , 0.        , 0.        ,\n",
       "       0.        , 0.        , 0.        , 0.        , 0.        ,\n",
       "       0.        , 0.        , 0.        , 0.        , 0.        ,\n",
       "       0.        , 0.        , 0.01176471, 0.79607843, 0.99607843,\n",
       "       0.85882353, 0.1372549 , 0.        , 0.        , 0.        ,\n",
       "       0.        , 0.        , 0.        , 0.        , 0.        ,\n",
       "       0.        , 0.        , 0.        , 0.        , 0.        ,\n",
       "       0.        , 0.        , 0.        , 0.        , 0.        ,\n",
       "       0.        , 0.        , 0.        , 0.        , 0.        ,\n",
       "       0.14901961, 0.99607843, 0.99607843, 0.30196078, 0.        ,\n",
       "       0.        , 0.        , 0.        , 0.        , 0.        ,\n",
       "       0.        , 0.        , 0.        , 0.        , 0.        ,\n",
       "       0.        , 0.        , 0.        , 0.        , 0.        ,\n",
       "       0.        , 0.        , 0.        , 0.        , 0.        ,\n",
       "       0.        , 0.        , 0.12156863, 0.87843137, 0.99607843,\n",
       "       0.45098039, 0.00392157, 0.        , 0.        , 0.        ,\n",
       "       0.        , 0.        , 0.        , 0.        , 0.        ,\n",
       "       0.        , 0.        , 0.        , 0.        , 0.        ,\n",
       "       0.        , 0.        , 0.        , 0.        , 0.        ,\n",
       "       0.        , 0.        , 0.        , 0.        , 0.        ,\n",
       "       0.52156863, 0.99607843, 0.99607843, 0.20392157, 0.        ,\n",
       "       0.        , 0.        , 0.        , 0.        , 0.        ,\n",
       "       0.        , 0.        , 0.        , 0.        , 0.        ,\n",
       "       0.        , 0.        , 0.        , 0.        , 0.        ,\n",
       "       0.        , 0.        , 0.        , 0.        , 0.        ,\n",
       "       0.        , 0.        , 0.23921569, 0.94901961, 0.99607843,\n",
       "       0.99607843, 0.20392157, 0.        , 0.        , 0.        ,\n",
       "       0.        , 0.        , 0.        , 0.        , 0.        ,\n",
       "       0.        , 0.        , 0.        , 0.        , 0.        ,\n",
       "       0.        , 0.        , 0.        , 0.        , 0.        ,\n",
       "       0.        , 0.        , 0.        , 0.        , 0.        ,\n",
       "       0.4745098 , 0.99607843, 0.99607843, 0.85882353, 0.15686275,\n",
       "       0.        , 0.        , 0.        , 0.        , 0.        ,\n",
       "       0.        , 0.        , 0.        , 0.        , 0.        ,\n",
       "       0.        , 0.        , 0.        , 0.        , 0.        ,\n",
       "       0.        , 0.        , 0.        , 0.        , 0.        ,\n",
       "       0.        , 0.        , 0.        , 0.4745098 , 0.99607843,\n",
       "       0.81176471, 0.07058824, 0.        , 0.        , 0.        ,\n",
       "       0.        , 0.        , 0.        , 0.        , 0.        ,\n",
       "       0.        , 0.        , 0.        , 0.        , 0.        ,\n",
       "       0.        , 0.        , 0.        , 0.        , 0.        ,\n",
       "       0.        , 0.        , 0.        , 0.        , 0.        ,\n",
       "       0.        , 0.        , 0.        , 0.        , 0.        ,\n",
       "       0.        , 0.        , 0.        , 0.        , 0.        ,\n",
       "       0.        , 0.        , 0.        , 0.        , 0.        ,\n",
       "       0.        , 0.        , 0.        , 0.        ])"
      ]
     },
     "execution_count": 14,
     "metadata": {},
     "output_type": "execute_result"
    }
   ],
   "source": [
    "X_test_flattened[0]"
   ]
  },
  {
   "cell_type": "code",
   "execution_count": 15,
   "id": "2377ebbc",
   "metadata": {},
   "outputs": [
    {
     "name": "stdout",
     "output_type": "stream",
     "text": [
      "Epoch 1/5\n",
      "1875/1875 [==============================] - 5s 2ms/step - loss: 0.4636 - accuracy: 0.8791\n",
      "Epoch 2/5\n",
      "1875/1875 [==============================] - 4s 2ms/step - loss: 0.3034 - accuracy: 0.9157\n",
      "Epoch 3/5\n",
      "1875/1875 [==============================] - 4s 2ms/step - loss: 0.2834 - accuracy: 0.9207\n",
      "Epoch 4/5\n",
      "1875/1875 [==============================] - 5s 3ms/step - loss: 0.2727 - accuracy: 0.9235\n",
      "Epoch 5/5\n",
      "1875/1875 [==============================] - 5s 3ms/step - loss: 0.2666 - accuracy: 0.9248\n"
     ]
    },
    {
     "data": {
      "text/plain": [
       "<keras.src.callbacks.History at 0x294ce9ce1d0>"
      ]
     },
     "execution_count": 15,
     "metadata": {},
     "output_type": "execute_result"
    }
   ],
   "source": [
    "model = keras.Sequential([\n",
    "    keras.layers.Dense(10, input_shape=(784,), activation='sigmoid')\n",
    "])\n",
    "\n",
    "model.compile(\n",
    "    optimizer = 'adam',\n",
    "    loss = 'sparse_categorical_crossentropy', \n",
    "    metrics = ['accuracy']\n",
    ")\n",
    "\n",
    "model.fit(X_train_flattened, y_train, epochs=5)"
   ]
  },
  {
   "cell_type": "code",
   "execution_count": 16,
   "id": "08e71fe6",
   "metadata": {},
   "outputs": [
    {
     "name": "stdout",
     "output_type": "stream",
     "text": [
      "313/313 [==============================] - 1s 2ms/step - loss: 0.2669 - accuracy: 0.9257\n"
     ]
    },
    {
     "data": {
      "text/plain": [
       "[0.2668769955635071, 0.9257000088691711]"
      ]
     },
     "execution_count": 16,
     "metadata": {},
     "output_type": "execute_result"
    }
   ],
   "source": [
    "model.evaluate(X_test_flattened, y_test)"
   ]
  },
  {
   "cell_type": "code",
   "execution_count": 17,
   "id": "1414e7a2",
   "metadata": {},
   "outputs": [
    {
     "name": "stdout",
     "output_type": "stream",
     "text": [
      "313/313 [==============================] - 1s 3ms/step\n"
     ]
    },
    {
     "data": {
      "text/plain": [
       "array([[2.16429420e-02, 4.17584715e-07, 4.40685712e-02, ...,\n",
       "        9.99651849e-01, 1.03024624e-01, 7.05891788e-01],\n",
       "       [4.25795823e-01, 4.09705844e-03, 9.99021351e-01, ...,\n",
       "        7.96159904e-13, 1.33982137e-01, 2.38636022e-09],\n",
       "       [3.49835580e-04, 9.93137956e-01, 6.00437939e-01, ...,\n",
       "        1.28556684e-01, 3.75447303e-01, 4.51803394e-02],\n",
       "       ...,\n",
       "       [2.72111924e-06, 6.92011645e-06, 9.36904340e-04, ...,\n",
       "        1.88391194e-01, 5.31337559e-01, 8.06764781e-01],\n",
       "       [1.20247416e-04, 2.10843253e-04, 1.18854943e-04, ...,\n",
       "        2.26583252e-05, 5.81770897e-01, 1.05836312e-04],\n",
       "       [6.39930228e-03, 3.49405532e-10, 1.57997385e-01, ...,\n",
       "        1.42945584e-08, 1.57328977e-04, 9.17143097e-07]], dtype=float32)"
      ]
     },
     "execution_count": 17,
     "metadata": {},
     "output_type": "execute_result"
    }
   ],
   "source": [
    "model.predict(X_test_flattened)"
   ]
  },
  {
   "cell_type": "code",
   "execution_count": 18,
   "id": "af0bd916",
   "metadata": {},
   "outputs": [
    {
     "data": {
      "text/plain": [
       "<matplotlib.image.AxesImage at 0x294d1a20c10>"
      ]
     },
     "execution_count": 18,
     "metadata": {},
     "output_type": "execute_result"
    },
    {
     "data": {
      "image/png": "[encoded data removed]",
      "text/plain": [
       "<Figure size 480x480 with 1 Axes>"
      ]
     },
     "metadata": {},
     "output_type": "display_data"
    }
   ],
   "source": [
    "plt.matshow(X_test[10])"
   ]
  },
  {
   "cell_type": "code",
   "execution_count": 19,
   "id": "dba99ce2",
   "metadata": {},
   "outputs": [
    {
     "name": "stdout",
     "output_type": "stream",
     "text": [
      "313/313 [==============================] - 1s 2ms/step\n"
     ]
    },
    {
     "data": {
      "text/plain": [
       "array([9.9881607e-01, 2.2428959e-07, 4.5571664e-01, 1.1840548e-01,\n",
       "       1.7278017e-04, 8.5440898e-01, 2.9710891e-02, 2.1860043e-05,\n",
       "       5.9693068e-01, 6.1811379e-04], dtype=float32)"
      ]
     },
     "execution_count": 19,
     "metadata": {},
     "output_type": "execute_result"
    }
   ],
   "source": [
    "y_predicted = model.predict(X_test_flattened)\n",
    "y_predicted[10]"
   ]
  },
  {
   "cell_type": "code",
   "execution_count": 20,
   "id": "7284cb2b",
   "metadata": {},
   "outputs": [
    {
     "data": {
      "text/plain": [
       "0"
      ]
     },
     "execution_count": 20,
     "metadata": {},
     "output_type": "execute_result"
    }
   ],
   "source": [
    "np.argmax(y_predicted[10])"
   ]
  },
  {
   "cell_type": "code",
   "execution_count": 21,
   "id": "e708710d",
   "metadata": {},
   "outputs": [
    {
     "data": {
      "text/plain": [
       "array([7, 2, 1, 0, 4], dtype=uint8)"
      ]
     },
     "execution_count": 21,
     "metadata": {},
     "output_type": "execute_result"
    }
   ],
   "source": [
    "y_test[:5]"
   ]
  },
  {
   "cell_type": "code",
   "execution_count": 22,
   "id": "d7ea5cac",
   "metadata": {},
   "outputs": [
    {
     "data": {
      "text/plain": [
       "[7, 2, 1, 0, 4]"
      ]
     },
     "execution_count": 22,
     "metadata": {},
     "output_type": "execute_result"
    }
   ],
   "source": [
    "y_predicted_labels = [np.argmax(i) for i in y_predicted]\n",
    "y_predicted_labels[:5]"
   ]
  },
  {
   "cell_type": "code",
   "execution_count": 23,
   "id": "ededd1dc",
   "metadata": {},
   "outputs": [
    {
     "data": {
      "text/plain": [
       "<tf.Tensor: shape=(10, 10), dtype=int32, numpy=\n",
       "array([[ 962,    0,    1,    2,    0,    5,    6,    2,    2,    0],\n",
       "       [   0, 1115,    3,    2,    0,    1,    4,    2,    8,    0],\n",
       "       [   7,   10,  917,   17,    9,    4,   12,   11,   41,    4],\n",
       "       [   3,    0,   16,  921,    1,   26,    2,   10,   22,    9],\n",
       "       [   1,    2,    4,    1,  924,    0,    9,    3,    9,   29],\n",
       "       [   9,    3,    2,   32,   12,  777,   14,    7,   30,    6],\n",
       "       [  10,    3,    5,    1,    8,   15,  912,    2,    2,    0],\n",
       "       [   2,    7,   21,    5,   10,    1,    0,  938,    3,   41],\n",
       "       [   6,    9,    5,   19,   10,   26,    9,    9,  874,    7],\n",
       "       [  11,    7,    1,   10,   37,    6,    0,   15,    5,  917]])>"
      ]
     },
     "execution_count": 23,
     "metadata": {},
     "output_type": "execute_result"
    }
   ],
   "source": [
    "cm = tf.math.confusion_matrix(labels=y_test, predictions=y_predicted_labels)\n",
    "cm"
   ]
  },
  {
   "cell_type": "code",
   "execution_count": 24,
   "id": "10afdc29",
   "metadata": {},
   "outputs": [
    {
     "data": {
      "text/plain": [
       "Text(95.72222222222221, 0.5, 'Truth')"
      ]
     },
     "execution_count": 24,
     "metadata": {},
     "output_type": "execute_result"
    },
    {
     "data": {
      "image/png": "[encoded data removed]",
      "text/plain": [
       "<Figure size 1000x700 with 2 Axes>"
      ]
     },
     "metadata": {},
     "output_type": "display_data"
    }
   ],
   "source": [
    "import seaborn as sn\n",
    "plt.figure(figsize =( 10, 7))\n",
    "sn.heatmap(cm, annot=True, fmt='d')\n",
    "plt.xlabel('Predicted')\n",
    "plt.ylabel('Truth')"
   ]
  },
  {
   "cell_type": "code",
   "execution_count": 26,
   "id": "90bc483e",
   "metadata": {},
   "outputs": [
    {
     "name": "stdout",
     "output_type": "stream",
     "text": [
      "Epoch 1/5\n",
      "1875/1875 [==============================] - 7s 3ms/step - loss: 0.2740 - accuracy: 0.9213\n",
      "Epoch 2/5\n",
      "1875/1875 [==============================] - 6s 3ms/step - loss: 0.1243 - accuracy: 0.9638\n",
      "Epoch 3/5\n",
      "1875/1875 [==============================] - 7s 4ms/step - loss: 0.0860 - accuracy: 0.9745\n",
      "Epoch 4/5\n",
      "1875/1875 [==============================] - 7s 4ms/step - loss: 0.0670 - accuracy: 0.9797\n",
      "Epoch 5/5\n",
      "1875/1875 [==============================] - 6s 3ms/step - loss: 0.0522 - accuracy: 0.9840\n"
     ]
    },
    {
     "data": {
      "text/plain": [
       "<keras.src.callbacks.History at 0x294800b5f50>"
      ]
     },
     "execution_count": 26,
     "metadata": {},
     "output_type": "execute_result"
    }
   ],
   "source": [
    "model = keras.Sequential([\n",
    "    keras.layers.Dense(100, input_shape=(784,), activation='relu'),\n",
    "    keras.layers.Dense(10, activation='sigmoid')\n",
    "])\n",
    "\n",
    "model.compile(\n",
    "    optimizer = 'adam',\n",
    "    loss = 'sparse_categorical_crossentropy', \n",
    "    metrics = ['accuracy']\n",
    ")\n",
    "\n",
    "model.fit(X_train_flattened, y_train, epochs=5)"
   ]
  },
  {
   "cell_type": "code",
   "execution_count": 27,
   "id": "5e286f2b",
   "metadata": {},
   "outputs": [
    {
     "name": "stdout",
     "output_type": "stream",
     "text": [
      "313/313 [==============================] - 1s 2ms/step - loss: 0.0799 - accuracy: 0.9758\n"
     ]
    },
    {
     "data": {
      "text/plain": [
       "[0.07992151379585266, 0.9757999777793884]"
      ]
     },
     "execution_count": 27,
     "metadata": {},
     "output_type": "execute_result"
    }
   ],
   "source": [
    "model.evaluate(X_test_flattened, y_test)"
   ]
  },
  {
   "cell_type": "code",
   "execution_count": null,
   "id": "b9ee07ba",
   "metadata": {},
   "outputs": [],
   "source": [
    "y_predicted = model.predict(X_test_flattened)\n",
    "y_predicted_labels = [np.argmax(i) for i in y_predicted]\n",
    "cm = tf.math.confusion_matrix(labels=y_test, predictions=y_predicted_labels)\n",
    "plt.figure(figsize =( 10, 7))\n",
    "sn.heatmap(cm, annot=True, fmt='d')\n",
    "plt.xlabel('Predicted')\n",
    "plt.ylabel('Truth')"
   ]
  },
  {
   "cell_type": "code",
   "execution_count": 28,
   "id": "d8e7e9f9",
   "metadata": {},
   "outputs": [
    {
     "name": "stdout",
     "output_type": "stream",
     "text": [
      "Epoch 1/5\n",
      "1875/1875 [==============================] - 6s 3ms/step - loss: 0.2728 - accuracy: 0.9223\n",
      "Epoch 2/5\n",
      "1875/1875 [==============================] - 5s 2ms/step - loss: 0.1250 - accuracy: 0.9630\n",
      "Epoch 3/5\n",
      "1875/1875 [==============================] - 5s 3ms/step - loss: 0.0872 - accuracy: 0.9735\n",
      "Epoch 4/5\n",
      "1875/1875 [==============================] - 5s 2ms/step - loss: 0.0655 - accuracy: 0.9805\n",
      "Epoch 5/5\n",
      "1875/1875 [==============================] - 5s 3ms/step - loss: 0.0527 - accuracy: 0.9838\n"
     ]
    },
    {
     "data": {
      "text/plain": [
       "<keras.src.callbacks.History at 0x2948032dc10>"
      ]
     },
     "execution_count": 28,
     "metadata": {},
     "output_type": "execute_result"
    }
   ],
   "source": [
    "model = keras.Sequential([\n",
    "    keras.layers.Flatten(input_shape=(28,28)),\n",
    "    keras.layers.Dense(100, activation='relu'),\n",
    "    keras.layers.Dense(10, activation='sigmoid')\n",
    "])\n",
    "\n",
    "model.compile(\n",
    "    optimizer = 'adam',\n",
    "    loss = 'sparse_categorical_crossentropy', \n",
    "    metrics = ['accuracy']\n",
    ")\n",
    "tb_callback = tf.keras.callbacks.TensorBoard(log_dir=\"logs/\", histogram_freq=1)\n",
    "\n",
    "model.fit(X_train, y_train, epochs=5, callbacks=[tb_callback])"
   ]
  },
  {
   "cell_type": "code",
   "execution_count": 29,
   "id": "568c4f3c",
   "metadata": {},
   "outputs": [
    {
     "data": {
      "text/html": [
       "\n",
       "      <iframe id=\"tensorboard-frame-6f8d6f41ab643ef6\" width=\"100%\" height=\"800\" frameborder=\"0\">\n",
       "      </iframe>\n",
       "      <script>\n",
       "        (function() {\n",
       "          const frame = document.getElementById(\"tensorboard-frame-6f8d6f41ab643ef6\");\n",
       "          const url = new URL(\"/\", window.location);\n",
       "          const port = 6006;\n",
       "          if (port) {\n",
       "            url.port = port;\n",
       "          }\n",
       "          frame.src = url;\n",
       "        })();\n",
       "      </script>\n",
       "    "
      ],
      "text/plain": [
       "<IPython.core.display.HTML object>"
      ]
     },
     "metadata": {},
     "output_type": "display_data"
    }
   ],
   "source": [
    "%load_ext tensorboard\n",
    "%tensorboard --logdir logs/fit"
   ]
  },
  {
   "cell_type": "code",
   "execution_count": 30,
   "id": "42a477a1",
   "metadata": {},
   "outputs": [
    {
     "data": {
      "text/plain": [
       "[array([[-0.03960446,  0.05413486,  0.06721412, ...,  0.07640377,\n",
       "          0.00342326, -0.04065363],\n",
       "        [ 0.07007128, -0.07047744, -0.04294141, ...,  0.00877589,\n",
       "          0.07449347, -0.03068809],\n",
       "        [-0.06428871, -0.05708347,  0.03241884, ..., -0.00972725,\n",
       "          0.07505637, -0.06886993],\n",
       "        ...,\n",
       "        [ 0.02741317,  0.05386248, -0.07772731, ...,  0.02617141,\n",
       "          0.02477431,  0.07329755],\n",
       "        [ 0.00710277,  0.04296015, -0.0069996 , ...,  0.08052225,\n",
       "         -0.06810632, -0.01409497],\n",
       "        [ 0.05216911, -0.02791921, -0.02232035, ..., -0.05796805,\n",
       "         -0.01410257,  0.07498169]], dtype=float32),\n",
       " array([-0.02277737,  0.22867301, -0.02736345,  0.02435035,  0.07642107,\n",
       "        -0.00182993, -0.04863133,  0.10242638, -0.0580086 , -0.07218739,\n",
       "        -0.00642511,  0.06008911,  0.05346753,  0.28772286, -0.1146846 ,\n",
       "         0.05806224,  0.01651376,  0.12924589,  0.11420372,  0.05634042,\n",
       "        -0.08949957, -0.00725094,  0.26281682,  0.18969876, -0.08923697,\n",
       "         0.13724406, -0.06355781, -0.02834493,  0.15700544,  0.07184819,\n",
       "         0.14042744, -0.00787031,  0.02874089,  0.03329644,  0.0140606 ,\n",
       "         0.07760397, -0.05068437, -0.07041883,  0.07023927,  0.00643891,\n",
       "         0.04525813, -0.01544212,  0.02368293,  0.12832884,  0.03275785,\n",
       "         0.09554324, -0.11084441, -0.02128248, -0.11494307, -0.11126535,\n",
       "         0.06139668, -0.03129223,  0.08355571,  0.01617605, -0.07222608,\n",
       "        -0.01475784, -0.11082723,  0.01898637,  0.03498815,  0.11081544,\n",
       "        -0.06876165,  0.07344469, -0.01531594, -0.01988676,  0.02110654,\n",
       "        -0.06091251,  0.02315236, -0.03753451, -0.06367955, -0.01655454,\n",
       "        -0.04758257, -0.02015045,  0.05913059,  0.01219727, -0.09712727,\n",
       "        -0.00732754,  0.06769688,  0.18057387, -0.01855394, -0.03213954,\n",
       "         0.08878525,  0.26834205,  0.0665958 , -0.05011131,  0.12763974,\n",
       "         0.12660982,  0.17752032, -0.02584566,  0.00919842,  0.07057083,\n",
       "        -0.03329591,  0.08211862,  0.0251472 ,  0.0226458 ,  0.05990649,\n",
       "         0.05851795, -0.06673465, -0.02473366, -0.02755771,  0.03288473],\n",
       "       dtype=float32),\n",
       " array([[-0.19571239, -0.02361161, -0.1814138 ,  0.03299884,  0.19867525,\n",
       "         -0.12722088,  0.19322515, -0.00198916,  0.18778436,  0.19425991],\n",
       "        [ 0.04978095,  0.5767359 , -0.32607093, -0.05258246,  0.0179766 ,\n",
       "          0.01217677,  0.1721119 ,  0.40789387, -0.40246436, -0.568252  ],\n",
       "        [ 0.03894477,  0.25135043, -0.00401306,  0.02338558, -0.05983023,\n",
       "         -0.4432938 ,  0.06331584, -0.596538  , -0.35308915,  0.44378093],\n",
       "        [-0.27922854, -0.1827192 , -0.16215901,  0.4135955 , -0.2005052 ,\n",
       "          0.10631884,  0.04880183,  0.15497208, -0.44368884, -0.00296651],\n",
       "        [ 0.27210236, -0.70327777, -0.20099632, -0.2572799 ,  0.24625172,\n",
       "          0.1056804 ,  0.31310758, -0.03241085,  0.21167845, -0.0322573 ],\n",
       "        [-0.47059464, -0.01918989,  0.15464014,  0.3758047 ,  0.11625189,\n",
       "         -0.17730738, -0.15207715,  0.41537118, -0.23832498, -0.5733537 ],\n",
       "        [ 0.1678238 , -0.24140178, -0.39092675,  0.2073538 , -0.34426078,\n",
       "          0.23606718,  0.00446901, -0.5210091 ,  0.21006882,  0.07607869],\n",
       "        [ 0.080251  ,  0.03028193,  0.32114226, -0.27266362, -0.40267876,\n",
       "          0.09572501,  0.4082063 , -0.0961474 ,  0.00454415,  0.12445669],\n",
       "        [ 0.05618602, -0.28812075, -0.05584114,  0.2314252 , -0.22585174,\n",
       "          0.18163307, -0.00459849, -0.63256633, -0.03973216,  0.01661647],\n",
       "        [ 0.29122466, -0.07242975, -0.39906338, -0.17980777,  0.42461175,\n",
       "         -0.42902637,  0.29391938,  0.03457001, -0.50675976,  0.20646161],\n",
       "        [-0.17220443,  0.48591346,  0.28915152, -0.12370165, -0.26196438,\n",
       "         -0.6312554 , -0.01044535,  0.07332953, -0.33642998, -0.07525755],\n",
       "        [-0.10769289,  0.22371961,  0.07344341, -0.77585787,  0.35839316,\n",
       "         -0.34853014,  0.17462255,  0.05255691,  0.03614378,  0.05726336],\n",
       "        [-0.24712624,  0.16928461, -0.01960903, -0.04418984, -0.05978286,\n",
       "         -0.03531196,  0.21297224, -0.15001753,  0.22304931, -0.09326206],\n",
       "        [-0.17252061,  0.42051136,  0.2147211 , -0.36067802,  0.26260707,\n",
       "          0.1822157 , -0.33811945,  0.5901689 , -0.6513073 , -0.42740393],\n",
       "        [ 0.16326271,  0.04813055,  0.06772929,  0.3251717 ,  0.17165413,\n",
       "         -0.5879388 , -0.34370643,  0.16666684,  0.06523675,  0.2586333 ],\n",
       "        [-0.21436025,  0.23913561,  0.27296713, -0.17294575, -0.5125827 ,\n",
       "         -0.26586652,  0.14464939,  0.17304164,  0.22995083, -0.94007075],\n",
       "        [-0.39877278, -0.41141742, -0.25220785, -0.3722362 ,  0.00325823,\n",
       "          0.57954067, -0.38611245, -0.39990318,  0.30213958,  0.2844286 ],\n",
       "        [-0.48961493,  0.15544137,  0.27176338,  0.07666487, -0.20458068,\n",
       "          0.14760488, -0.3911817 ,  0.53736407, -0.19322705, -0.6217591 ],\n",
       "        [-0.03419838, -0.2737868 ,  0.30031568,  0.1006714 ,  0.37969577,\n",
       "          0.26575297,  0.03940332,  0.06122847, -0.5795979 ,  0.18091366],\n",
       "        [-0.01195317,  0.3972682 ,  0.08492385, -0.6879019 , -0.12622523,\n",
       "         -0.26177344,  0.21490617, -0.05718769,  0.2972504 , -0.72707754],\n",
       "        [ 0.1940751 , -0.43221238, -0.3739628 , -0.03083824, -0.04636906,\n",
       "          0.15945214,  0.05111095, -0.13000524,  0.27366212, -0.04341296],\n",
       "        [-0.23879871, -0.47922307, -0.04726879,  0.10157845,  0.00888521,\n",
       "         -0.3804098 , -0.29924732,  0.22642152, -0.3059852 ,  0.2547791 ],\n",
       "        [-0.09869591,  0.4157407 ,  0.20088665, -0.3083026 ,  0.4846896 ,\n",
       "          0.38125238, -0.21951924, -0.61700284, -0.19534586, -0.6330475 ],\n",
       "        [-0.01275277, -0.01497229,  0.2686397 , -0.25765148,  0.32917714,\n",
       "          0.09062761,  0.03049411, -0.5509085 , -0.04323401, -0.09670512],\n",
       "        [-0.35287106, -0.4232561 ,  0.09177841,  0.27758247,  0.09117153,\n",
       "          0.26417655, -0.27136198, -0.34495354,  0.27671754,  0.1436509 ],\n",
       "        [ 0.02450029, -0.13816802,  0.31939352, -0.5477749 ,  0.36833882,\n",
       "         -0.35017967, -0.01134461,  0.2291768 , -0.22558556,  0.22495224],\n",
       "        [-0.10276189,  0.20188199,  0.00696583,  0.20089152,  0.31209353,\n",
       "         -0.53290313, -0.30542484, -0.20899208,  0.16486393,  0.26357222],\n",
       "        [-0.441858  , -0.32548755,  0.13746311, -0.42118755, -0.70174897,\n",
       "          0.39511472,  0.32006422, -0.17930292,  0.0266829 ,  0.23798521],\n",
       "        [-0.11125754, -0.05100997, -0.39611465, -0.07252364, -0.73447996,\n",
       "          0.6375027 ,  0.42326114, -0.15064943, -0.10755251, -0.2691577 ],\n",
       "        [-0.15432484, -0.23670086,  0.26243687, -0.17353633,  0.08755806,\n",
       "         -0.25453585, -0.09540008,  0.09435502, -0.15645514,  0.22294167],\n",
       "        [-0.06994214,  0.18783739,  0.15443003,  0.09147955,  0.2665897 ,\n",
       "          0.13578059,  0.00829759, -0.5570364 ,  0.0514084 ,  0.04266264],\n",
       "        [ 0.24819377,  0.19157425, -0.08292898, -0.34897515,  0.46290877,\n",
       "          0.09783094,  0.29523653, -0.20494252, -0.30278262, -0.44922748],\n",
       "        [ 0.24655983, -0.41532445,  0.2820784 ,  0.04129179, -0.48241642,\n",
       "          0.01483281, -0.27387226,  0.13927579, -0.16724259, -0.0104502 ],\n",
       "        [ 0.17182098, -0.2632444 ,  0.05455944,  0.23390646,  0.06575063,\n",
       "         -0.06123928, -0.28571332,  0.211042  ,  0.01764034, -0.16287902],\n",
       "        [-0.2307185 , -0.4382482 , -0.24948807,  0.28972343, -0.19752222,\n",
       "          0.21270938,  0.09519092, -0.09216866, -0.2231529 , -0.48945683],\n",
       "        [-0.6297734 , -0.16730967, -0.06211231, -0.2964133 ,  0.5532294 ,\n",
       "         -0.06778985, -0.18680447,  0.2716396 ,  0.240028  , -0.1658389 ],\n",
       "        [ 0.29578942, -0.02507131,  0.09220975, -0.28066868, -0.01376982,\n",
       "         -0.03179498,  0.11644894, -0.32269773, -0.32963955,  0.21507461],\n",
       "        [ 0.22671197, -0.28905287, -0.04712665,  0.19536798, -0.0656539 ,\n",
       "          0.12370645,  0.11667827,  0.09448147,  0.21486855,  0.08091795],\n",
       "        [-0.4323857 ,  0.28543535,  0.1975612 ,  0.31556582,  0.05451106,\n",
       "          0.05365223, -0.07813418, -0.2102868 ,  0.15525743, -0.45111102],\n",
       "        [-0.96200013,  0.2908108 , -0.03567907,  0.44741547,  0.23261578,\n",
       "         -0.1787091 , -0.730685  , -0.40320262, -0.02311308,  0.4054288 ],\n",
       "        [ 0.20457734,  0.21643251,  0.35757676,  0.12359051,  0.01656956,\n",
       "         -1.1085236 , -0.32839695,  0.1887492 , -0.0914752 , -0.05130374],\n",
       "        [-0.03191308,  0.29782358,  0.1483414 ,  0.09801739, -0.507726  ,\n",
       "          0.06028386,  0.04663374, -0.16480888,  0.17156267, -0.13245676],\n",
       "        [-0.44039592,  0.2226244 ,  0.42021167,  0.08419413, -0.02725896,\n",
       "          0.12585361, -0.1501622 ,  0.28043512, -0.05598878, -0.6503476 ],\n",
       "        [-0.37490848, -0.31494018,  0.11123545,  0.10282015,  0.19866168,\n",
       "          0.26511684, -0.59262735,  0.14893085,  0.05905458,  0.16035214],\n",
       "        [-0.45190072,  0.32035688, -0.05310113, -0.42629057,  0.44211885,\n",
       "         -0.1711267 , -0.4538715 ,  0.32890767, -0.5835937 ,  0.17849152],\n",
       "        [ 0.11146084, -0.16372673, -0.8768485 , -0.03080614, -0.27481958,\n",
       "          0.03082617,  0.10493091,  0.28650478, -0.05550862,  0.29360744],\n",
       "        [ 0.00512543, -0.07858061,  0.13508704,  0.17514512, -0.36147285,\n",
       "          0.02280932, -0.6310421 ,  0.16158448, -0.11095681,  0.04432797],\n",
       "        [-0.22243327, -0.0044264 , -0.40297833,  0.47138265, -0.69424105,\n",
       "          0.5088144 , -0.34897116, -0.43129435, -0.8424493 ,  0.06792419],\n",
       "        [ 0.14239766, -0.2428096 ,  0.02379528,  0.19257002, -0.18317737,\n",
       "          0.09905005, -0.2172615 ,  0.12756827,  0.1624412 ,  0.2156551 ],\n",
       "        [ 0.36042485,  0.14185554, -0.09782382, -0.44675666,  0.12134296,\n",
       "          0.09615734, -0.20865996,  0.24801397, -0.45200488,  0.18321493],\n",
       "        [ 0.06876954, -0.18228567,  0.19149117, -0.04537343, -0.21289724,\n",
       "          0.18478791,  0.17269278, -0.34012887,  0.10317069, -0.08609565],\n",
       "        [-0.08842018, -0.00162049,  0.19635811, -0.07975945, -0.30025283,\n",
       "         -0.58121055, -0.01700234, -0.15956779,  0.20865119, -0.05866526],\n",
       "        [-0.2888788 , -0.64841753, -0.19159725, -0.38049474,  0.16757631,\n",
       "          0.08599696, -0.04165507,  0.01738111,  0.17072833,  0.05538835],\n",
       "        [-0.18332608,  0.10701228,  0.1343538 ,  0.20883828,  0.11443858,\n",
       "          0.09094851, -0.5524828 , -0.07430363,  0.23000947,  0.09459681],\n",
       "        [-0.23212221, -0.38203296, -0.7029761 ,  0.4751152 , -0.40091792,\n",
       "          0.4969874 , -0.36820418, -0.02555283, -0.32078147,  0.16933441],\n",
       "        [-0.22735797,  0.24526912,  0.18928021,  0.03408079,  0.17079382,\n",
       "         -0.9931666 , -0.6196022 , -0.03709579, -0.11931317,  0.17281398],\n",
       "        [ 0.05413201,  0.19059421, -0.15230644,  0.19834174, -0.1602712 ,\n",
       "          0.02169373,  0.11494152,  0.1533781 ,  0.13165747,  0.27529508],\n",
       "        [-0.38372985,  0.2882663 , -0.25479153, -0.31104186, -0.01881998,\n",
       "          0.43175793, -0.27327085,  0.32444975,  0.03969003, -0.3195401 ],\n",
       "        [ 0.12696777, -0.22476077, -0.15474895, -0.15604441,  0.1318402 ,\n",
       "         -0.21220401, -0.3243443 ,  0.18625596, -0.13539556,  0.03389521],\n",
       "        [-0.88030535,  0.20151497, -0.0267495 ,  0.17826581,  0.12782924,\n",
       "          0.25584692,  0.06076879,  0.09006082, -0.09732544, -0.3107345 ],\n",
       "        [-0.45790488,  0.45512652, -0.442905  ,  0.10583439, -0.25654164,\n",
       "          0.1726226 , -0.34480956,  0.09242394, -0.22734289,  0.08777443],\n",
       "        [ 0.3135454 , -0.14257106,  0.21597692, -0.33780912, -1.0197222 ,\n",
       "          0.3492431 ,  0.13084695, -0.06408379, -0.36242548,  0.33799142],\n",
       "        [ 0.24969693,  0.01339546, -0.29980657, -0.3443234 ,  0.11781278,\n",
       "         -0.1016736 , -0.47297397,  0.25021872, -0.01240559,  0.28635758],\n",
       "        [ 0.33633435, -0.09247707,  0.27691945, -0.4152778 ,  0.11645289,\n",
       "         -0.31930307, -0.11275963, -0.1717665 ,  0.22489734,  0.01580921],\n",
       "        [-0.10753872, -0.04161016,  0.02784636, -0.06250295,  0.10044328,\n",
       "         -0.13396527,  0.18956661, -0.31179515,  0.19242054, -0.07960776],\n",
       "        [ 0.2704412 , -0.39784572,  0.15041122, -0.06245164, -0.04805191,\n",
       "         -0.25163293,  0.22530903, -0.66423327, -0.0982048 , -0.04808724],\n",
       "        [ 0.13126856, -0.3677669 , -0.09964868,  0.113569  ,  0.04938674,\n",
       "         -0.03909368,  0.2864873 , -0.38090122, -0.03174771, -0.30820316],\n",
       "        [ 0.08772687,  0.04471622,  0.32082465,  0.1305532 , -0.97146726,\n",
       "         -0.0768382 , -0.11966224,  0.3184089 ,  0.10885606,  0.05086241],\n",
       "        [-0.01754572, -0.17057797,  0.21671747,  0.46625286, -0.6353694 ,\n",
       "         -0.37483108, -0.6960931 ,  0.10260297, -0.03828586, -0.31917715],\n",
       "        [ 0.22306058, -0.01868145,  0.1752406 ,  0.01482307, -0.6743384 ,\n",
       "         -0.05092801, -0.06055903, -0.25070465,  0.06920479, -0.20900479],\n",
       "        [ 0.20463173, -0.20227575,  0.20666106,  0.172089  , -0.6550189 ,\n",
       "         -0.07472654, -0.62197924,  0.27246135, -0.06565922, -0.01079425],\n",
       "        [ 0.06149815,  0.0220094 , -0.12485618,  0.01843026, -0.6862945 ,\n",
       "          0.27397057,  0.12123542, -0.5801503 ,  0.0509001 , -0.22167023],\n",
       "        [-0.529089  , -0.05128369, -0.05023021,  0.08683904,  0.23776782,\n",
       "          0.24331364,  0.24946755, -0.09611063,  0.0499233 ,  0.22878076],\n",
       "        [ 0.33471987,  0.30410573, -0.44104293, -0.29907504, -0.1827745 ,\n",
       "          0.04476789,  0.16804434, -0.44601488,  0.18511714, -0.5004825 ],\n",
       "        [ 0.08957966, -0.28746998,  0.23927982,  0.1165379 , -0.00710052,\n",
       "         -0.1931863 , -0.1009785 , -0.2687351 ,  0.2349086 ,  0.09575571],\n",
       "        [-0.09578294, -0.52825433, -0.0773171 , -0.00789582, -0.35630423,\n",
       "         -0.11000402,  0.5757928 ,  0.05873114, -0.02295712,  0.14111358],\n",
       "        [-0.06779892,  0.08707713, -0.26314065,  0.0732055 ,  0.10949199,\n",
       "          0.22607148, -0.09719533, -0.28610477,  0.20661072,  0.03845433],\n",
       "        [-0.27037987,  0.06490146, -0.54258   , -0.3233883 ,  0.27132216,\n",
       "          0.3483048 ,  0.10177276, -0.14934562,  0.21029443, -0.07674953],\n",
       "        [ 0.25569794, -0.16445878, -0.32274407,  0.04010168, -0.09627517,\n",
       "          0.08409455, -0.2839122 ,  0.13035518,  0.10528985,  0.3430399 ],\n",
       "        [-0.4049112 ,  0.07270675, -0.7453902 ,  0.1478653 ,  0.08058026,\n",
       "         -0.10625629,  0.24943472, -0.01037671, -0.488583  ,  0.23879083],\n",
       "        [-0.03218663,  0.1267862 ,  0.47200164,  0.0118849 ,  0.03125262,\n",
       "         -0.22350882,  0.3857186 ,  0.17566766, -0.43745393, -0.7831218 ],\n",
       "        [-0.20772523, -0.189096  ,  0.3016157 ,  0.2552701 ,  0.12986404,\n",
       "          0.4331794 , -0.00822541,  0.3125279 , -0.17165147, -0.5734628 ],\n",
       "        [-0.70631045,  0.12777098, -0.7716173 ,  0.1612756 ,  0.3484411 ,\n",
       "          0.0766477 , -0.7171843 , -0.03722831, -0.11267266,  0.28473648],\n",
       "        [ 0.08539262, -0.11423419, -0.10548141,  0.03170411,  0.24241453,\n",
       "         -0.2139027 , -0.34325385,  0.09595775,  0.21126872,  0.23801546],\n",
       "        [ 0.2935794 ,  0.2456036 ,  0.10834897, -0.07686587, -0.55673426,\n",
       "          0.10391188, -0.02189129, -0.32756498, -0.52206874, -0.31942844],\n",
       "        [-0.07342526,  0.50609046,  0.1698567 , -0.5386024 ,  0.00828905,\n",
       "          0.32132173, -0.22299479,  0.36014965, -0.71711266,  0.03801176],\n",
       "        [ 0.14043213, -0.6382695 ,  0.28628507,  0.213872  , -0.7306159 ,\n",
       "          0.3931931 , -0.94935775,  0.23503816, -0.3427273 ,  0.18876217],\n",
       "        [ 0.11315239, -0.38462454,  0.009533  , -0.14466889,  0.06623718,\n",
       "         -0.16035077, -0.0588317 , -0.03905318,  0.13789472, -0.04727455],\n",
       "        [-0.41677833,  0.01719644,  0.40909225,  0.0143859 , -0.36422446,\n",
       "          0.31824312,  0.00326029,  0.1940436 ,  0.02816488, -0.44345975],\n",
       "        [-0.12572938,  0.00914284, -0.0977036 , -0.13929825, -0.32892457,\n",
       "          0.09849596, -0.3028262 , -0.33235797, -0.03898413, -0.07909895],\n",
       "        [ 0.14314964,  0.23354362,  0.24473506, -0.3011507 , -0.08523217,\n",
       "         -0.623393  ,  0.10102647, -0.03820716,  0.10722405,  0.17013401],\n",
       "        [-0.2477015 ,  0.00165294,  0.2804797 , -0.03602061, -0.33981535,\n",
       "         -0.17077796,  0.24959162, -0.00664005, -0.24305435, -0.5576378 ],\n",
       "        [-0.3344945 ,  0.28357056, -0.31981453, -0.40170196,  0.16284129,\n",
       "          0.48768723, -0.5424406 ,  0.06781262, -0.06598727,  0.08054622],\n",
       "        [-0.39428324,  0.33760455, -0.39242354, -0.29169226,  0.01114527,\n",
       "          0.23499575,  0.43663147, -0.21908803, -0.24616323,  0.12723678],\n",
       "        [ 0.14407556, -0.39398456, -0.1148812 ,  0.14962013,  0.248716  ,\n",
       "          0.15885137, -0.09479061,  0.13422169,  0.24032062,  0.18340252],\n",
       "        [-0.15956296, -0.08908964, -0.5831403 , -0.45521593,  0.3448402 ,\n",
       "          0.17397119,  0.4011157 , -0.19784275,  0.02224622,  0.07380586],\n",
       "        [-0.34510937, -0.00246359,  0.05429861,  0.15111488, -0.2519302 ,\n",
       "         -0.08719734,  0.02928568,  0.09374401,  0.18246077, -0.23630531],\n",
       "        [-0.12288283,  0.05668164,  0.14721318,  0.26746914,  0.15774614,\n",
       "         -0.5423812 ,  0.13107567,  0.19390388,  0.12026415, -0.75956434],\n",
       "        [ 0.2392295 ,  0.17550871,  0.15930025,  0.1940638 , -0.14611652,\n",
       "         -0.19660807,  0.14534809,  0.36604163, -0.49396533,  0.12466536],\n",
       "        [ 0.09650133, -0.3244064 , -0.20353803, -0.1389904 ,  0.06956847,\n",
       "          0.05676503,  0.10232026,  0.21011044,  0.17175566,  0.08661056]],\n",
       "       dtype=float32),\n",
       " array([-0.15751559, -0.0188432 ,  0.06311187, -0.03611041,  0.12086376,\n",
       "         0.09094431, -0.03249541, -0.02143362,  0.05237465, -0.125466  ],\n",
       "       dtype=float32)]"
      ]
     },
     "execution_count": 30,
     "metadata": {},
     "output_type": "execute_result"
    }
   ],
   "source": [
    "model.get_weights()"
   ]
  },
  {
   "cell_type": "code",
   "execution_count": null,
   "id": "36b5f2f8",
   "metadata": {},
   "outputs": [],
   "source": []
  }
 ],
 "metadata": {
  "kernelspec": {
   "display_name": "Python 3 (ipykernel)",
   "language": "python",
   "name": "python3"
  },
  "language_info": {
   "codemirror_mode": {
    "name": "ipython",
    "version": 3
   },
   "file_extension": ".py",
   "mimetype": "text/x-python",
   "name": "python",
   "nbconvert_exporter": "python",
   "pygments_lexer": "ipython3",
   "version": "3.11.5"
  }
 },
 "nbformat": 4,
 "nbformat_minor": 5
}
