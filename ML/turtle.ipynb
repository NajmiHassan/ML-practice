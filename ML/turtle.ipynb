{
 "cells": [
  {
   "cell_type": "code",
   "execution_count": 2,
   "id": "7659e792",
   "metadata": {},
   "outputs": [],
   "source": [
    "import turtle\n",
    "import colorsys"
   ]
  },
  {
   "cell_type": "code",
   "execution_count": 3,
   "id": "ace4d422",
   "metadata": {},
   "outputs": [],
   "source": [
    "t = turtle.Turtle()\n",
    "turtle.Screen().bgcolor(\"black\")\n",
    "t.pensize(2)\n",
    "t.speed(0)\n",
    "n = 36\n",
    "h = 0"
   ]
  },
  {
   "cell_type": "code",
   "execution_count": null,
   "id": "d0097ca9",
   "metadata": {},
   "outputs": [],
   "source": [
    "for i in range(90):\n",
    "    c = colorsys.hsv_to_rgb(h,1,0.9)\n",
    "    h+=1/n\n",
    "    t.pencolor(c)\n",
    "    for j in range(5):\n",
    "        t.forward(i-3)\n",
    "        t.right(9*5)\n",
    "        t.left(8)\n",
    "    t.right(115)\n",
    "turtle.done()"
   ]
  },
  {
   "cell_type": "code",
   "execution_count": null,
   "id": "a0ed987d",
   "metadata": {},
   "outputs": [],
   "source": []
  }
 ],
 "metadata": {
  "kernelspec": {
   "display_name": "Python 3 (ipykernel)",
   "language": "python",
   "name": "python3"
  },
  "language_info": {
   "codemirror_mode": {
    "name": "ipython",
    "version": 3
   },
   "file_extension": ".py",
   "mimetype": "text/x-python",
   "name": "python",
   "nbconvert_exporter": "python",
   "pygments_lexer": "ipython3",
   "version": "3.11.5"
  }
 },
 "nbformat": 4,
 "nbformat_minor": 5
}
